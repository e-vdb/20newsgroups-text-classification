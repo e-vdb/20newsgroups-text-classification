{
  "nbformat": 4,
  "nbformat_minor": 0,
  "metadata": {
    "colab": {
      "name": "twentyNewsgroups.ipynb",
      "provenance": [],
      "collapsed_sections": []
    },
    "kernelspec": {
      "name": "python3",
      "display_name": "Python 3"
    },
    "language_info": {
      "name": "python"
    }
  },
  "cells": [
    {
      "cell_type": "code",
      "metadata": {
        "id": "JYWuffYi-j-k"
      },
      "source": [
        "from sklearn.datasets import fetch_20newsgroups\n",
        "from sklearn.model_selection import train_test_split\n",
        "from sklearn.feature_extraction.text import CountVectorizer,TfidfTransformer,TfidfVectorizer\n",
        "from sklearn.linear_model import LogisticRegression\n",
        "from sklearn.pipeline import make_pipeline,Pipeline\n",
        "from sklearn.naive_bayes import MultinomialNB\n",
        "from sklearn.svm import LinearSVC\n",
        "import numpy as np\n",
        "from sklearn.model_selection import GridSearchCV\n",
        "from sklearn import metrics"
      ],
      "execution_count": null,
      "outputs": []
    },
    {
      "cell_type": "markdown",
      "metadata": {
        "id": "mcS3D-CANeUF"
      },
      "source": [
        "We load the dataset."
      ]
    },
    {
      "cell_type": "code",
      "metadata": {
        "id": "Giy_N-uqNcXd",
        "colab": {
          "base_uri": "https://localhost:8080/"
        },
        "outputId": "34fc4d39-0417-4654-88ec-0df0c9a082c7"
      },
      "source": [
        "twenty_train = fetch_20newsgroups(subset='train',\n",
        "    shuffle=True, random_state=42)"
      ],
      "execution_count": null,
      "outputs": [
        {
          "output_type": "stream",
          "text": [
            "Downloading 20news dataset. This may take a few minutes.\n",
            "Downloading dataset from https://ndownloader.figshare.com/files/5975967 (14 MB)\n"
          ],
          "name": "stderr"
        }
      ]
    },
    {
      "cell_type": "code",
      "metadata": {
        "colab": {
          "base_uri": "https://localhost:8080/"
        },
        "id": "BxNut4M__Ykb",
        "outputId": "f2f0e770-062a-418c-eaa8-6af0c99cce16"
      },
      "source": [
        "type(twenty_train)"
      ],
      "execution_count": null,
      "outputs": [
        {
          "output_type": "execute_result",
          "data": {
            "text/plain": [
              "sklearn.utils.Bunch"
            ]
          },
          "metadata": {
            "tags": []
          },
          "execution_count": 5
        }
      ]
    },
    {
      "cell_type": "markdown",
      "metadata": {
        "id": "5zQm3WxTMsWu"
      },
      "source": [
        "The dataset is stored in a bunch. We look at the keys"
      ]
    },
    {
      "cell_type": "code",
      "metadata": {
        "colab": {
          "base_uri": "https://localhost:8080/"
        },
        "id": "3NqdgTFbM0pc",
        "outputId": "bc9aaaa3-80f9-4304-b809-70fd6b160bdd"
      },
      "source": [
        "twenty_train.keys()"
      ],
      "execution_count": null,
      "outputs": [
        {
          "output_type": "execute_result",
          "data": {
            "text/plain": [
              "dict_keys(['data', 'filenames', 'target_names', 'target', 'DESCR'])"
            ]
          },
          "metadata": {
            "tags": []
          },
          "execution_count": 4
        }
      ]
    },
    {
      "cell_type": "code",
      "metadata": {
        "colab": {
          "base_uri": "https://localhost:8080/"
        },
        "id": "qHuunON__xYN",
        "outputId": "7cb3e19f-c335-42bd-83de-d4cee22484e1"
      },
      "source": [
        "twenty_train.target_names"
      ],
      "execution_count": null,
      "outputs": [
        {
          "output_type": "execute_result",
          "data": {
            "text/plain": [
              "['alt.atheism',\n",
              " 'comp.graphics',\n",
              " 'comp.os.ms-windows.misc',\n",
              " 'comp.sys.ibm.pc.hardware',\n",
              " 'comp.sys.mac.hardware',\n",
              " 'comp.windows.x',\n",
              " 'misc.forsale',\n",
              " 'rec.autos',\n",
              " 'rec.motorcycles',\n",
              " 'rec.sport.baseball',\n",
              " 'rec.sport.hockey',\n",
              " 'sci.crypt',\n",
              " 'sci.electronics',\n",
              " 'sci.med',\n",
              " 'sci.space',\n",
              " 'soc.religion.christian',\n",
              " 'talk.politics.guns',\n",
              " 'talk.politics.mideast',\n",
              " 'talk.politics.misc',\n",
              " 'talk.religion.misc']"
            ]
          },
          "metadata": {
            "tags": []
          },
          "execution_count": 66
        }
      ]
    },
    {
      "cell_type": "code",
      "metadata": {
        "colab": {
          "base_uri": "https://localhost:8080/",
          "height": 122
        },
        "id": "mNwgv5NIAAp-",
        "outputId": "55c197c9-8af6-4c16-e368-326d7fcf3fe0"
      },
      "source": [
        "twenty_train.data[0]"
      ],
      "execution_count": null,
      "outputs": [
        {
          "output_type": "execute_result",
          "data": {
            "application/vnd.google.colaboratory.intrinsic+json": {
              "type": "string"
            },
            "text/plain": [
              "\"From: lerxst@wam.umd.edu (where's my thing)\\nSubject: WHAT car is this!?\\nNntp-Posting-Host: rac3.wam.umd.edu\\nOrganization: University of Maryland, College Park\\nLines: 15\\n\\n I was wondering if anyone out there could enlighten me on this car I saw\\nthe other day. It was a 2-door sports car, looked to be from the late 60s/\\nearly 70s. It was called a Bricklin. The doors were really small. In addition,\\nthe front bumper was separate from the rest of the body. This is \\nall I know. If anyone can tellme a model name, engine specs, years\\nof production, where this car is made, history, or whatever info you\\nhave on this funky looking car, please e-mail.\\n\\nThanks,\\n- IL\\n   ---- brought to you by your neighborhood Lerxst ----\\n\\n\\n\\n\\n\""
            ]
          },
          "metadata": {
            "tags": []
          },
          "execution_count": 68
        }
      ]
    },
    {
      "cell_type": "code",
      "metadata": {
        "colab": {
          "base_uri": "https://localhost:8080/"
        },
        "id": "lmYkPsYHARvG",
        "outputId": "9e7a8ecb-79d2-47b8-9fe0-164c5fcceb88"
      },
      "source": [
        "print(\"\\n\".join(twenty_train.data[0].split(\"\\n\")[:10]))"
      ],
      "execution_count": null,
      "outputs": [
        {
          "output_type": "stream",
          "text": [
            "From: lerxst@wam.umd.edu (where's my thing)\n",
            "Subject: WHAT car is this!?\n",
            "Nntp-Posting-Host: rac3.wam.umd.edu\n",
            "Organization: University of Maryland, College Park\n",
            "Lines: 15\n",
            "\n",
            " I was wondering if anyone out there could enlighten me on this car I saw\n",
            "the other day. It was a 2-door sports car, looked to be from the late 60s/\n",
            "early 70s. It was called a Bricklin. The doors were really small. In addition,\n",
            "the front bumper was separate from the rest of the body. This is \n"
          ],
          "name": "stdout"
        }
      ]
    },
    {
      "cell_type": "code",
      "metadata": {
        "colab": {
          "base_uri": "https://localhost:8080/"
        },
        "id": "ydEbkh1JAWe9",
        "outputId": "dfafe8f1-b8f1-4c2c-9f6b-53780c3f8d0d"
      },
      "source": [
        "print(twenty_train.target_names[twenty_train.target[0]])"
      ],
      "execution_count": null,
      "outputs": [
        {
          "output_type": "stream",
          "text": [
            "rec.autos\n"
          ],
          "name": "stdout"
        }
      ]
    },
    {
      "cell_type": "code",
      "metadata": {
        "colab": {
          "base_uri": "https://localhost:8080/"
        },
        "id": "o3dmPXeZBEoO",
        "outputId": "0d55bf93-aa3e-4421-c74a-da6b20443aad"
      },
      "source": [
        "for t in twenty_train.target[:10]:\n",
        "    print(twenty_train.target_names[t])"
      ],
      "execution_count": null,
      "outputs": [
        {
          "output_type": "stream",
          "text": [
            "rec.autos\n",
            "comp.sys.mac.hardware\n",
            "comp.sys.mac.hardware\n",
            "comp.graphics\n",
            "sci.space\n",
            "talk.politics.guns\n",
            "sci.med\n",
            "comp.sys.ibm.pc.hardware\n",
            "comp.os.ms-windows.misc\n",
            "comp.sys.mac.hardware\n"
          ],
          "name": "stdout"
        }
      ]
    },
    {
      "cell_type": "code",
      "metadata": {
        "colab": {
          "base_uri": "https://localhost:8080/"
        },
        "id": "eDZq75k7BuGK",
        "outputId": "7e22c451-48ce-49be-bcf2-5aafc0a52a97"
      },
      "source": [
        "type(twenty_train.target)"
      ],
      "execution_count": null,
      "outputs": [
        {
          "output_type": "execute_result",
          "data": {
            "text/plain": [
              "numpy.ndarray"
            ]
          },
          "metadata": {
            "tags": []
          },
          "execution_count": 8
        }
      ]
    },
    {
      "cell_type": "code",
      "metadata": {
        "colab": {
          "base_uri": "https://localhost:8080/"
        },
        "id": "nKOOKO6MCagL",
        "outputId": "8e70185d-c9a3-40ee-f505-bfbf14dfcd8c"
      },
      "source": [
        "import collections\n",
        "collections.Counter(twenty_train.target)"
      ],
      "execution_count": null,
      "outputs": [
        {
          "output_type": "execute_result",
          "data": {
            "text/plain": [
              "Counter({0: 480,\n",
              "         1: 584,\n",
              "         2: 591,\n",
              "         3: 590,\n",
              "         4: 578,\n",
              "         5: 593,\n",
              "         6: 585,\n",
              "         7: 594,\n",
              "         8: 598,\n",
              "         9: 597,\n",
              "         10: 600,\n",
              "         11: 595,\n",
              "         12: 591,\n",
              "         13: 594,\n",
              "         14: 593,\n",
              "         15: 599,\n",
              "         16: 546,\n",
              "         17: 564,\n",
              "         18: 465,\n",
              "         19: 377})"
            ]
          },
          "metadata": {
            "tags": []
          },
          "execution_count": 9
        }
      ]
    },
    {
      "cell_type": "code",
      "metadata": {
        "id": "_gWwAOfgDBnD"
      },
      "source": [
        "def evaluate_model(model,X,y):\n",
        "  X_train,X_test,y_train,y_test=train_test_split(X, y, train_size=0.8, test_size=0.2,\n",
        "                                                      random_state=0)\n",
        "  model.fit(X_train,y_train)\n",
        "  print(\"Accuracy score on training set {}\".format(model.score(X_train,y_train)))\n",
        "  print(\"Accuracy score on test set {}\".format(model.score(X_test,y_test)))\n",
        "\n",
        "def predict_category(model,X_test):\n",
        "  predicted=model.predict(X_test)\n",
        "  for doc,category in zip(X_test,predicted):\n",
        "    print('{} => {}'.format(doc,twenty_train.target_names[category]))\n",
        "\n",
        "def evaluation_test(model,X_test,y_test):\n",
        "  predicted = model.predict(X_test)\n",
        "  print(\"Accuracy = {:2f} %\".format(np.mean(predicted == y_test)))\n",
        "  print(metrics.classification_report(y_test, predicted,\n",
        "    target_names=twenty_test.target_names))\n",
        "\n",
        "def model_optimisation(model,grid_params):\n",
        "  X_train,X_test,y_train,y_test=train_test_split(X, y, train_size=0.8, test_size=0.2,\n",
        "                                                      random_state=0)\n",
        "  model_gs=GridSearchCV(model,param_grid=grid_params,cv=5,verbose=3,n_jobs=-1)\n",
        "\n",
        "  model_gs.fit(X_train,y_train)\n",
        "  print(\"Best parameters {}\".format(model_gs.best_params_))\n",
        "  print(\"Best score: {:.3f}\".format(model_gs.best_score_))  \n",
        "\n"
      ],
      "execution_count": null,
      "outputs": []
    },
    {
      "cell_type": "markdown",
      "metadata": {
        "id": "1G1AhoyhNjEo"
      },
      "source": [
        "We store the features (data) in X and the target in y."
      ]
    },
    {
      "cell_type": "code",
      "metadata": {
        "id": "nZTYaJwVDeoj"
      },
      "source": [
        "X=twenty_train.data\n",
        "y=twenty_train.target"
      ],
      "execution_count": null,
      "outputs": []
    },
    {
      "cell_type": "markdown",
      "metadata": {
        "id": "WwV4Klhxbqpi"
      },
      "source": [
        "# Multinomial Naive Bayes Classifier"
      ]
    },
    {
      "cell_type": "markdown",
      "metadata": {
        "id": "cPqR_1AxZnTp"
      },
      "source": [
        "We use a standard CountVectorizer."
      ]
    },
    {
      "cell_type": "code",
      "metadata": {
        "colab": {
          "base_uri": "https://localhost:8080/"
        },
        "id": "faqscBmvElqs",
        "outputId": "320fa468-ddfe-48e7-ea44-6f3aba47a82f"
      },
      "source": [
        "cv_NB_pipe=Pipeline([('cvec',CountVectorizer(min_df=5)),('nb',MultinomialNB())])\n",
        "evaluate_model(cv_NB_pipe,X,y)"
      ],
      "execution_count": null,
      "outputs": [
        {
          "output_type": "stream",
          "text": [
            "Accuracy score on training set 0.9173571980996575\n",
            "Accuracy score on test set 0.8515245249668582\n"
          ],
          "name": "stdout"
        }
      ]
    },
    {
      "cell_type": "code",
      "metadata": {
        "colab": {
          "base_uri": "https://localhost:8080/"
        },
        "id": "JE2lhF1xQmVb",
        "outputId": "9a5dddf4-5ced-4afb-8a8a-11151fc87a3a"
      },
      "source": [
        "docs_new = ['God is love', 'Go and see a doctor']\n",
        "predict_category(cv_NB_pipe,docs_new)"
      ],
      "execution_count": null,
      "outputs": [
        {
          "output_type": "stream",
          "text": [
            "God is love => soc.religion.christian\n",
            "Go and see a doctor => sci.med\n"
          ],
          "name": "stdout"
        }
      ]
    },
    {
      "cell_type": "code",
      "metadata": {
        "colab": {
          "base_uri": "https://localhost:8080/"
        },
        "id": "FElRGgTVKFlH",
        "outputId": "d1f45c76-62d4-473c-d210-b8da2a5ef168"
      },
      "source": [
        "tfidf_NB_pipe=Pipeline([('tvec',TfidfVectorizer(min_df=5)),('nb',MultinomialNB())])\n",
        "evaluate_model(tfidf_NB_pipe,X,y)"
      ],
      "execution_count": null,
      "outputs": [
        {
          "output_type": "stream",
          "text": [
            "Accuracy score on training set 0.9360291680477295\n",
            "Accuracy score on test set 0.862129916040654\n"
          ],
          "name": "stdout"
        }
      ]
    },
    {
      "cell_type": "code",
      "metadata": {
        "colab": {
          "base_uri": "https://localhost:8080/"
        },
        "id": "7fu2Wg76Qu3V",
        "outputId": "b17be276-162d-4005-b100-e1945a0cb675"
      },
      "source": [
        "predict_category(tfidf_NB_pipe,docs_new)"
      ],
      "execution_count": null,
      "outputs": [
        {
          "output_type": "stream",
          "text": [
            "God is love => soc.religion.christian\n",
            "Go and see a doctor => sci.med\n"
          ],
          "name": "stdout"
        }
      ]
    },
    {
      "cell_type": "markdown",
      "metadata": {
        "id": "zzqg0CVSb4-r"
      },
      "source": [
        "# Linear Support Vector Machine classifier"
      ]
    },
    {
      "cell_type": "code",
      "metadata": {
        "colab": {
          "base_uri": "https://localhost:8080/"
        },
        "id": "NkyfTXGIaGnC",
        "outputId": "b55a5243-3315-415f-d720-f41b3060712e"
      },
      "source": [
        "SVM_clf=Pipeline([\n",
        "    ('vect', CountVectorizer()),\n",
        "    ('tfidf', TfidfTransformer()),\n",
        "    ('clf', LinearSVC()) \n",
        "  ])\n",
        "evaluate_model(SVM_clf,X,y)\n",
        "predict_category(SVM_clf,docs_new)"
      ],
      "execution_count": null,
      "outputs": [
        {
          "output_type": "stream",
          "text": [
            "Accuracy score on training set 0.9993370898243288\n",
            "Accuracy score on test set 0.9270879363676535\n",
            "God is love => soc.religion.christian\n",
            "Go and see a doctor => sci.med\n"
          ],
          "name": "stdout"
        }
      ]
    },
    {
      "cell_type": "markdown",
      "metadata": {
        "id": "rUwCgM9uSBVD"
      },
      "source": [
        "# Evaluation on a new dataset"
      ]
    },
    {
      "cell_type": "markdown",
      "metadata": {
        "id": "x0fcHOUnSLMi"
      },
      "source": [
        "We load the dataset used to evaluate the model."
      ]
    },
    {
      "cell_type": "code",
      "metadata": {
        "id": "8BHa7-yXPrJn"
      },
      "source": [
        "twenty_test = fetch_20newsgroups(subset='test',\n",
        "    shuffle=True, random_state=42)"
      ],
      "execution_count": null,
      "outputs": []
    },
    {
      "cell_type": "markdown",
      "metadata": {
        "id": "Z_vbFRtkTjMV"
      },
      "source": [
        "Evaluation of the accuracy for Multinomial Naive Bayes with standard Count Vectorizer."
      ]
    },
    {
      "cell_type": "code",
      "metadata": {
        "colab": {
          "base_uri": "https://localhost:8080/"
        },
        "id": "Y_RLm4brSP2M",
        "outputId": "febbe5fa-ebf0-45ce-b1a6-24e06963f93f"
      },
      "source": [
        "evaluation_test(cv_NB_pipe,twenty_test.data,twenty_test.target)"
      ],
      "execution_count": null,
      "outputs": [
        {
          "output_type": "stream",
          "text": [
            "Accuracy = 0.781731 %\n",
            "                          precision    recall  f1-score   support\n",
            "\n",
            "             alt.atheism       0.73      0.82      0.77       319\n",
            "           comp.graphics       0.55      0.82      0.66       389\n",
            " comp.os.ms-windows.misc       0.20      0.00      0.01       394\n",
            "comp.sys.ibm.pc.hardware       0.52      0.79      0.63       392\n",
            "   comp.sys.mac.hardware       0.76      0.81      0.78       385\n",
            "          comp.windows.x       0.75      0.75      0.75       395\n",
            "            misc.forsale       0.83      0.82      0.82       390\n",
            "               rec.autos       0.83      0.91      0.87       396\n",
            "         rec.motorcycles       0.90      0.93      0.92       398\n",
            "      rec.sport.baseball       0.93      0.90      0.91       397\n",
            "        rec.sport.hockey       0.96      0.95      0.95       399\n",
            "               sci.crypt       0.88      0.89      0.89       396\n",
            "         sci.electronics       0.75      0.70      0.72       393\n",
            "                 sci.med       0.90      0.80      0.85       396\n",
            "               sci.space       0.87      0.86      0.86       394\n",
            "  soc.religion.christian       0.86      0.92      0.89       398\n",
            "      talk.politics.guns       0.71      0.91      0.80       364\n",
            "   talk.politics.mideast       0.97      0.85      0.90       376\n",
            "      talk.politics.misc       0.65      0.57      0.61       310\n",
            "      talk.religion.misc       0.71      0.49      0.58       251\n",
            "\n",
            "                accuracy                           0.78      7532\n",
            "               macro avg       0.76      0.77      0.76      7532\n",
            "            weighted avg       0.77      0.78      0.76      7532\n",
            "\n"
          ],
          "name": "stdout"
        }
      ]
    },
    {
      "cell_type": "markdown",
      "metadata": {
        "id": "7HnIgVuZTdp-"
      },
      "source": [
        "Evaluation of the accuracy for Multinomial Naive Bayes with standard Count Vectorizer and TFIDF transformer."
      ]
    },
    {
      "cell_type": "code",
      "metadata": {
        "colab": {
          "base_uri": "https://localhost:8080/"
        },
        "id": "Csc6emRlTdCw",
        "outputId": "ac68cd91-13de-47a9-cdfc-49b5048f35e6"
      },
      "source": [
        "evaluation_test(tfidf_NB_pipe,twenty_test.data,twenty_test.target)"
      ],
      "execution_count": null,
      "outputs": [
        {
          "output_type": "stream",
          "text": [
            "Accuracy = 0.791822 %\n",
            "                          precision    recall  f1-score   support\n",
            "\n",
            "             alt.atheism       0.78      0.63      0.70       319\n",
            "           comp.graphics       0.78      0.68      0.73       389\n",
            " comp.os.ms-windows.misc       0.75      0.72      0.73       394\n",
            "comp.sys.ibm.pc.hardware       0.67      0.77      0.72       392\n",
            "   comp.sys.mac.hardware       0.83      0.80      0.81       385\n",
            "          comp.windows.x       0.85      0.76      0.81       395\n",
            "            misc.forsale       0.89      0.78      0.83       390\n",
            "               rec.autos       0.84      0.92      0.88       396\n",
            "         rec.motorcycles       0.96      0.90      0.93       398\n",
            "      rec.sport.baseball       0.92      0.89      0.91       397\n",
            "        rec.sport.hockey       0.88      0.97      0.92       399\n",
            "               sci.crypt       0.74      0.94      0.83       396\n",
            "         sci.electronics       0.81      0.63      0.70       393\n",
            "                 sci.med       0.86      0.82      0.84       396\n",
            "               sci.space       0.86      0.88      0.87       394\n",
            "  soc.religion.christian       0.51      0.97      0.67       398\n",
            "      talk.politics.guns       0.65      0.93      0.77       364\n",
            "   talk.politics.mideast       0.94      0.89      0.92       376\n",
            "      talk.politics.misc       0.94      0.46      0.62       310\n",
            "      talk.religion.misc       1.00      0.17      0.29       251\n",
            "\n",
            "                accuracy                           0.79      7532\n",
            "               macro avg       0.82      0.78      0.77      7532\n",
            "            weighted avg       0.82      0.79      0.79      7532\n",
            "\n"
          ],
          "name": "stdout"
        }
      ]
    },
    {
      "cell_type": "markdown",
      "metadata": {
        "id": "1TVNHCqScB3s"
      },
      "source": [
        "Evaluation of the accuracy for the Linear SVM."
      ]
    },
    {
      "cell_type": "code",
      "metadata": {
        "colab": {
          "base_uri": "https://localhost:8080/"
        },
        "id": "RzLdil75a9q6",
        "outputId": "47d3b0d1-f7eb-476a-e956-2b57550b2ae3"
      },
      "source": [
        "evaluation_test(SVM_clf,twenty_test.data,twenty_test.target)"
      ],
      "execution_count": null,
      "outputs": [
        {
          "output_type": "stream",
          "text": [
            "Accuracy = 0.846389 %\n",
            "                          precision    recall  f1-score   support\n",
            "\n",
            "             alt.atheism       0.79      0.78      0.79       319\n",
            "           comp.graphics       0.74      0.79      0.77       389\n",
            " comp.os.ms-windows.misc       0.76      0.74      0.75       394\n",
            "comp.sys.ibm.pc.hardware       0.70      0.76      0.73       392\n",
            "   comp.sys.mac.hardware       0.82      0.84      0.83       385\n",
            "          comp.windows.x       0.86      0.74      0.80       395\n",
            "            misc.forsale       0.84      0.90      0.87       390\n",
            "               rec.autos       0.92      0.89      0.91       396\n",
            "         rec.motorcycles       0.95      0.95      0.95       398\n",
            "      rec.sport.baseball       0.92      0.95      0.93       397\n",
            "        rec.sport.hockey       0.96      0.98      0.97       399\n",
            "               sci.crypt       0.92      0.93      0.93       396\n",
            "         sci.electronics       0.81      0.79      0.80       393\n",
            "                 sci.med       0.90      0.87      0.88       396\n",
            "               sci.space       0.91      0.92      0.92       394\n",
            "  soc.religion.christian       0.84      0.93      0.88       398\n",
            "      talk.politics.guns       0.75      0.93      0.83       364\n",
            "   talk.politics.mideast       0.95      0.87      0.91       376\n",
            "      talk.politics.misc       0.82      0.60      0.70       310\n",
            "      talk.religion.misc       0.73      0.61      0.66       251\n",
            "\n",
            "                accuracy                           0.85      7532\n",
            "               macro avg       0.84      0.84      0.84      7532\n",
            "            weighted avg       0.85      0.85      0.85      7532\n",
            "\n"
          ],
          "name": "stdout"
        }
      ]
    },
    {
      "cell_type": "markdown",
      "metadata": {
        "id": "TispQa9ncLVh"
      },
      "source": [
        "# Model optimisation with Grid Search CV"
      ]
    },
    {
      "cell_type": "code",
      "metadata": {
        "colab": {
          "base_uri": "https://localhost:8080/"
        },
        "id": "QNP8TKJzS0hz",
        "outputId": "2f3700e4-13c1-4eec-fe7a-f15d6f0ac117"
      },
      "source": [
        "cvec_params = {\n",
        " 'cvec__min_df':[1,5,10], \n",
        " 'cvec__ngram_range': [(1, 1), (1, 2)],\n",
        "}\n",
        "model_optimisation(cv_NB_pipe,cvec_params)"
      ],
      "execution_count": null,
      "outputs": [
        {
          "output_type": "stream",
          "text": [
            "Fitting 5 folds for each of 6 candidates, totalling 30 fits\n"
          ],
          "name": "stdout"
        },
        {
          "output_type": "stream",
          "text": [
            "[Parallel(n_jobs=-1)]: Using backend LokyBackend with 2 concurrent workers.\n",
            "/usr/local/lib/python3.7/dist-packages/joblib/externals/loky/process_executor.py:691: UserWarning: A worker stopped while some jobs were given to the executor. This can be caused by a too short worker timeout or by a memory leak.\n",
            "  \"timeout or by a memory leak.\", UserWarning\n",
            "[Parallel(n_jobs=-1)]: Done  30 out of  30 | elapsed:  2.5min finished\n"
          ],
          "name": "stderr"
        },
        {
          "output_type": "stream",
          "text": [
            "Best parameters {'cvec__min_df': 5, 'cvec__ngram_range': (1, 1)}\n",
            "Best score: 0.842\n"
          ],
          "name": "stdout"
        }
      ]
    }
  ]
}